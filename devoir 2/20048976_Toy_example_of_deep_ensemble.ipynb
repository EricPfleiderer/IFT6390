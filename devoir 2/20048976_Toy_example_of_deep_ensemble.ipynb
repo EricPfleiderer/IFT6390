{
  "nbformat": 4,
  "nbformat_minor": 0,
  "metadata": {
    "colab": {
      "name": "20048976_Toy example of deep ensemble.ipynb",
      "provenance": [],
      "collapsed_sections": []
    },
    "kernelspec": {
      "name": "python3",
      "display_name": "Python 3"
    },
    "language_info": {
      "name": "python"
    }
  },
  "cells": [
    {
      "cell_type": "code",
      "source": [
        "%matplotlib inline"
      ],
      "metadata": {
        "id": "vv2-ZdAmXJV1"
      },
      "execution_count": null,
      "outputs": []
    },
    {
      "cell_type": "code",
      "source": [
        "import matplotlib.pyplot as plt"
      ],
      "metadata": {
        "id": "MPwYvkY9XvXn"
      },
      "execution_count": null,
      "outputs": []
    },
    {
      "cell_type": "code",
      "execution_count": null,
      "metadata": {
        "id": "3GYUZzlgWiaD"
      },
      "outputs": [],
      "source": [
        "import jax \n",
        "import jax.numpy as jnp\n",
        "\n",
        "from jax.example_libraries import stax\n",
        "from jax.example_libraries import optimizers\n",
        "\n",
        "from jax.example_libraries.stax import Dense, Relu, Tanh"
      ]
    },
    {
      "cell_type": "markdown",
      "source": [
        "Read [Simple and Scalable Predictive Uncertainty\n",
        "Estimation using Deep Ensembles](https://proceedings.neurips.cc/paper/2017/file/9ef2ed4b7fd2c810847ffa5fa85bce38-Paper.pdf). For this exercise, we will implement the toy regression problem in which we want to fit the function $f(x) = x^3$ through noisy observations, ie: $y = x^3 + \\epsilon$ where $\\epsilon \\sim \\mathcal{N}(0, 3^2)$."
      ],
      "metadata": {
        "id": "tNWFEsn4i9Ap"
      }
    },
    {
      "cell_type": "code",
      "source": [
        "def toy_dataset(key, num_samples_train=20, minval_train=-4, maxval_train=4, num_samples_test=100, minval_test=-6,  maxval_test=6):\n",
        "  def f(x):\n",
        "    return x**3\n",
        "\n",
        "  key, subkey = jax.random.split(key)\n",
        "  Xtrain = jax.random.uniform(key, shape=(num_samples_train,), minval=minval_train, maxval=maxval_train)\n",
        "  noises = jax.random.normal(subkey, shape=(num_samples_train,))*3\n",
        "  Ytrain = f(Xtrain) + noises\n",
        "\n",
        "  Xtest = jnp.linspace(minval_test, maxval_test, num_samples_test)\n",
        "  Ytest = f(Xtest)\n",
        "\n",
        "  return (Xtrain[:, jnp.newaxis], Ytrain), (Xtest[:, jnp.newaxis], Ytest), f"
      ],
      "metadata": {
        "id": "QxGnhLH2bgwm"
      },
      "execution_count": null,
      "outputs": []
    },
    {
      "cell_type": "code",
      "source": [
        ""
      ],
      "metadata": {
        "id": "JFHEbqEnr6dA"
      },
      "execution_count": null,
      "outputs": []
    },
    {
      "cell_type": "code",
      "source": [
        "out = predict_fn(params, input)"
      ],
      "metadata": {
        "id": "DYcoJxw9rliz"
      },
      "execution_count": null,
      "outputs": []
    },
    {
      "cell_type": "code",
      "source": [
        "mean = out[:, :10] \n",
        "variance = out[:, 10:]"
      ],
      "metadata": {
        "id": "fEAUvEHJrr7l"
      },
      "execution_count": null,
      "outputs": []
    },
    {
      "cell_type": "markdown",
      "source": [
        "An important design consideration of the Deep Ensemble paper is to use a two-headed network outputting the mean and variance of a Gaussian distribution given an input. We use these two outputs to then compute the log-likelihood of the data under the Gaussian assumption. Our loss becomes: \n",
        "\n",
        "\\begin{align*}\n",
        "\\mathcal{L}(\\theta; \\mathcal{D}) \\triangleq \\frac{1}{2|\\mathcal{D}|} \\sum_{i=1}^{|\\mathcal{D}|}\\left(\\log \\sigma^2(x_i; \\theta) + \\frac{(y_i - \\mu_\\theta(x_i))^2}{\\sigma_\\theta^2(x_i)}\\right) \\enspace ,\n",
        "\\end{align*}\n",
        "which departs slightly from the usual MSE loss that you have been using so far. Furthermore, we use the softplus function to ensure that the variance output is nonnegative and add a minimum value of $1e^{-6}$ for numerical stability. "
      ],
      "metadata": {
        "id": "HM0lqJrSlvkS"
      }
    },
    {
      "cell_type": "code",
      "source": [
        "def nll_loss(params, inputs, targets, predict_fn):\n",
        "  \"\"\" Compute the negative log likelihood of our model under the Gaussian assumption.\n",
        "  Args:\n",
        "    params (list): list of parameters of a predictor in the ensemble\n",
        "    inputs (jnp.ndarray): batch of input observation (xs)\n",
        "    targets (jnp.ndarray): batch of targets (ys)\n",
        "    predict_fn (function): neural network function predict_fn(params, inputs)\n",
        "  Returns: \n",
        "    Mean log likelihood of the parameters for the given data\n",
        "  \"\"\"\n",
        "  # IMPLEMENT the loss above loss function\n",
        "    return 1/(2*inputs.shape[0]) * jnp.sum(jnp.log(variance) + (targets-mean)**2/variance)"
      ],
      "metadata": {
        "id": "RfTH-IZPS4XR"
      },
      "execution_count": null,
      "outputs": []
    },
    {
      "cell_type": "markdown",
      "source": [
        "We learn each predictor through gradient descent using the [Adam optimizer](https://arxiv.org/abs/1412.6980). Since members of the ensemble are trained independently, we will be able to vmap the training procedure across datasets: ie will will vmap a dataset of datasets. Let's start by implementing the training loop:"
      ],
      "metadata": {
        "id": "8RLzCaVZoiOJ"
      }
    },
    {
      "cell_type": "code",
      "source": [
        "def train(loss, init_params, dataset, step_size, num_steps):\n",
        "  inputs, targets = dataset\n",
        "  opt_init, opt_update, get_params = optimizers.adam(step_size=step_size)\n",
        "  @jax.jit\n",
        "  def step(opt_state, i):\n",
        "    val, pg = jax.value_and_grad(loss)(get_params(opt_state), inputs, targets, predict_fn)\n",
        "    opt_state = opt_update(i, pg, opt_state)\n",
        "    return opt_state, val\n",
        "  opt_state, values = jax.lax.scan(step, opt_init(init_params), xs=jnp.arange(num_steps))\n",
        "  return get_params(opt_state), values"
      ],
      "metadata": {
        "id": "pam0OecCMl8f"
      },
      "execution_count": null,
      "outputs": []
    },
    {
      "cell_type": "markdown",
      "source": [
        "We train each predictor using the above optimization procedure through vmap. A crucial component of the deep ensemble paper is the use of adversarial examples to enhance the quality of the uncertainty estimation. More precisely, we generate an augmented dataset $\\mathcal{D}'$ by perturbing the original data as follows: \n",
        "\\begin{align*}\n",
        "x_i' = x_i + \\epsilon \\text{sign}\\left( D_1 \\mathcal{L}(\\theta_0^{(m)}, x_i, y_i)\\right), \\enspace \\forall (x_i,y_i) \\in \\mathcal{D} \\enspace ,\n",
        "\\end{align*}\n",
        "where $\\theta_0^{(m)}$ are the initial parameters of a given model $m$ in the ensemble. "
      ],
      "metadata": {
        "id": "3wMrLX5HgztA"
      }
    },
    {
      "cell_type": "code",
      "source": [
        "def train_ensemble(key, dataset, num_models, eps_adversarial, step_size, num_steps):\n",
        "  \"\"\" Train a deep ensemble using adversarial samples and random reshuffling \n",
        "\n",
        "  Args: \n",
        "    key: key to be split when initializing the network and shuffling the data\n",
        "    dataset (tuple): pair of jnp.ndarray (inputs, targets)\n",
        "    num_models (int): number of models in the ensemble\n",
        "    eps_adversarial (float): epsilon coefficient used to generate adversarial inputs\n",
        "    step_size (float): step size used in training each member of the ensemble \n",
        "    num_steps (int): number of optimization steps to run\n",
        "\n",
        "  Returns:\n",
        "    A tuple of optimized parameters for each member and the corresponding training losses. \n",
        "  \"\"\"\n",
        "  inputs, targets = dataset\n",
        "\n",
        "  def adversarial_train(key):\n",
        "    key, subkey = jax.random.split(key)\n",
        "    _, init_params = init_fn(key, (-1,1))\n",
        "    # IMPLEMENT: \n",
        "    # 1. Create a new set of adversarial examples by perturbing the original \n",
        "    # inputs in the direction given by the sign of the gradient of the loss with \n",
        "    # respect to its inputs. \n",
        "\n",
        "    inputs = jax.random.shuffle(subkey, inputs)\n",
        "    dir = jnp.sign(jax.grad(nll_loss(init_params, inputs, targets, predict_fn)))\n",
        "    inputs += eps_adversarial * dir\n",
        "\n",
        "    # 2. Create an augmented dataset\n",
        "     dataset = (inputs, targets)\n",
        "\n",
        "    # 3. Compute the negative log likelihood loss on the augmented dataset\n",
        "    return (dataset, nll_loss(init_params, inputs, targets, predict_fn))\n",
        "\n",
        "  return jax.vmap(adversarial_train)(jax.random.split(key, num_models))"
      ],
      "metadata": {
        "id": "9Dah02Vnf8ua"
      },
      "execution_count": null,
      "outputs": []
    },
    {
      "cell_type": "code",
      "source": [
        "key = jax.random.PRNGKey(6541)\n",
        "(Xtrain, Ytrain), (Xtest, Ytest), f = toy_dataset(key)"
      ],
      "metadata": {
        "colab": {
          "base_uri": "https://localhost:8080/"
        },
        "id": "bSdNhpzCr3kX",
        "outputId": "1a0bb019-90c7-428a-a82a-80ce7216360a"
      },
      "execution_count": null,
      "outputs": [
        {
          "output_type": "stream",
          "name": "stderr",
          "text": [
            "WARNING:absl:No GPU/TPU found, falling back to CPU. (Set TF_CPP_MIN_LOG_LEVEL=0 and rerun for more info.)\n"
          ]
        }
      ]
    },
    {
      "cell_type": "code",
      "source": [
        "Xtrain.shape"
      ],
      "metadata": {
        "colab": {
          "base_uri": "https://localhost:8080/"
        },
        "id": "h01eyTKBr832",
        "outputId": "49ca92b9-5bcd-4c63-c899-a4995f3cf863"
      },
      "execution_count": null,
      "outputs": [
        {
          "output_type": "execute_result",
          "data": {
            "text/plain": [
              "(20, 1)"
            ]
          },
          "metadata": {},
          "execution_count": 6
        }
      ]
    },
    {
      "cell_type": "markdown",
      "source": [
        "Per the original paper, we use a network with a dense layer of $50$ units with a relu nonlinearity, which then produces the final two outputs via a dense linear mapping. "
      ],
      "metadata": {
        "id": "Kbybbs2Mi5hE"
      }
    },
    {
      "cell_type": "code",
      "source": [
        "key = jax.random.PRNGKey(6541)\n",
        "(Xtrain, Ytrain), (Xtest, Ytest), f = toy_dataset(key)\n",
        "# IMPLEMENT: the network described above using stax.serial\n",
        "init_fn, predict_fn = stax.serial(\n",
        "    stax.Dense(50),\n",
        "    stax.Relu,\n",
        "    stax.Dense(2),\n",
        ")"
      ],
      "metadata": {
        "id": "4iHEGFzFajnP",
        "colab": {
          "base_uri": "https://localhost:8080/"
        },
        "outputId": "659a1133-98ec-4244-fdb8-ce3377ba8ab0"
      },
      "execution_count": null,
      "outputs": [
        {
          "output_type": "stream",
          "name": "stderr",
          "text": [
            "WARNING:absl:No GPU/TPU found, falling back to CPU. (Set TF_CPP_MIN_LOG_LEVEL=0 and rerun for more info.)\n"
          ]
        }
      ]
    },
    {
      "cell_type": "markdown",
      "source": [
        "Once each model has been trained, we can compute the mean as: \n",
        "\\begin{align*}\n",
        "\\mu(x; \\theta_1, ..., \\theta_m) = \\frac{1}{M} \\sum_{i=1}^M \\mu(x; \\theta_i) \\enspace, \n",
        "\\end{align*}\n",
        "where $\\theta_i$ are the parameters of model $i$ in the ensemble. Similarly, the variance can be computed as: \n",
        "\\begin{align*}\n",
        "\\text{var}(x;  \\theta_1, ..., \\theta_m) = \\frac{1}{M} \\sum_{i=1}^M \\left(\\sigma^2(x;\\theta_i) + \\mu^2(x; \\theta_i\\right) - \\mu(x;  \\theta_1, ..., \\theta_m)^2\n",
        "\\end{align*}"
      ],
      "metadata": {
        "id": "ANgD6sMIjYQK"
      }
    },
    {
      "cell_type": "code",
      "source": [
        "ensemble_params, _ = train_ensemble(key, (Xtrain, Ytrain), num_models=5, eps_adversarial=8e-2, step_size=1e-1, num_steps=3000)\n",
        "ensemble_predictions = jax.vmap(predict_fn, (0, None))(ensemble_params, Xtest)\n",
        "\n",
        "# IMPLEMENT\n",
        "# 1. Compute the mean of the ensemble\n",
        "# 2. Compute the variance of the ensemble\n",
        "ensemble_mean = jnp.mean(ensemble_params)\n",
        "ensemble_var = jnp.mean(jnp.var(ensemble_params)+jnp.mean(ensemble_params)**2 - ensemble_mean)**2 # COMPUTE VARIANCE  # TODO: Missing parenthesis + axis args"
      ],
      "metadata": {
        "id": "XxtJpd13vsuU"
      },
      "execution_count": null,
      "outputs": []
    },
    {
      "cell_type": "markdown",
      "source": [
        "The following plot shows the true function and each of the ensemble member on a test set. We visualize the uncertainty estimate by the blue confidence band representing three points of standard deviation around the mean. "
      ],
      "metadata": {
        "id": "IfvaQd_T4-qS"
      }
    },
    {
      "cell_type": "code",
      "source": [
        "fig = plt.figure(figsize=(10,10))\n",
        "ax = fig.add_subplot(111)\n",
        "\n",
        "ax.plot(Xtest, f(Xtest), c='k')\n",
        "ax.plot(Xtest, ensemble_mean, ls='--')\n",
        "ax.plot(Xtest, ensemble_predictions[:,:,0].T)\n",
        "stddev = jnp.sqrt(ensemble_var)*3\n",
        "ax.fill_between(Xtest[:,0], ensemble_mean+stddev, ensemble_mean-stddev, alpha=0.5)\n",
        "ax.scatter(Xtrain, Ytrain)"
      ],
      "metadata": {
        "colab": {
          "base_uri": "https://localhost:8080/",
          "height": 609
        },
        "id": "1ONCIweGqram",
        "outputId": "fc53708b-e2bf-459a-f278-5858497c4112"
      },
      "execution_count": null,
      "outputs": [
        {
          "output_type": "execute_result",
          "data": {
            "text/plain": [
              "<matplotlib.collections.PathCollection at 0x7f2d6c612910>"
            ]
          },
          "metadata": {},
          "execution_count": 10
        },
        {
          "output_type": "display_data",
          "data": {
            "text/plain": [
              "<Figure size 720x720 with 1 Axes>"
            ],
            "image/png": "[encoded data removed]"
          },
          "metadata": {
            "needs_background": "light"
          }
        }
      ]
    },
    {
      "cell_type": "markdown",
      "source": [
        "# Questions \n",
        "\n",
        "1. We talked about bootstrapping and bagging in class. How does the approach that you implemented above different from a usual bootstrap ensemble? **Explain** in words how deep ensemble depart from the classic methodology. What is the benefit of the adversarial noise compared to the naive approach and why do we bother about doing things this way?  \n",
        "\n",
        "Traditional bootstrapping is an ensemble method that creates multiple datasets out of a single one by sampling it uniformely with replacement. Models are then trained on the newly generated datasets and aggregated as a single predictor. While the bagging of the models in an ensemble reduces overall variance and helps to avoid overfitting, the variety of models in the ensemble constitutes a kind of ''wisdom of the crowds'' that increases the ensembles average performance.\n",
        "\n",
        "Deep ensembles add to the traditional bootstrap framework by aiming to give a better estimation of predictive uncertainty. Deep ensembles achieve this by defining a simple recipe (proper scoring rules, ensembling, etc) to follow that includes adversarial training. The training set is modified using the fast gradient sign method; examples are perturbed with random noise in the direction that would increase the loss of the model. This type of training is thought to smooth predictive distributions by increasing the likelihood of targets in the neighborhood around their respective example. \n",
        "\n",
        "2. **Modify** the function ``train_ensemble`` to implement a \"naive\" bootstrap approach where you resample the data only and use **MSE loss.**\n",
        "3. **Plot** the resulting confidence intervals (three points of standard deviation). Discuss the results"
      ],
      "metadata": {
        "id": "mSJmKZQrAgf3"
      }
    },
    {
      "cell_type": "code",
      "source": [
        "#2 NAIVE VERSION\n",
        "def train_ensemble(key, dataset, num_models, eps_adversarial, step_size, num_steps):\n",
        "  \n",
        "  inputs, targets = dataset\n",
        "\n",
        "  def adversarial_train(key):\n",
        "    key, subkey = jax.random.split(key)\n",
        "    _, init_params = init_fn(key, (-1,1))\n",
        "\n",
        "    # Create new dataset using uniform sampling with replacement\n",
        "    inputs = jnp.random.choice(inputs, size=inputs.size)\n",
        "    dataset = (inputs, targets)\n",
        "\n",
        "    # 3. Compute the MSE on the new dataset\n",
        "    mse = jnp.sum((-targets)**2)  # TODO: complete loss\n",
        "    \n",
        "    return (dataset, mse)\n",
        "\n",
        "  return jax.vmap(adversarial_train)(jax.random.split(key, num_models))\n",
        "\n",
        "\n",
        "  #3 Plot\n"
      ],
      "metadata": {
        "id": "NF8uDUyrDOTf"
      },
      "execution_count": null,
      "outputs": []
    }
  ]
}